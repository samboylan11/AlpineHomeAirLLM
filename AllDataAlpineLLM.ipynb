{
  "cells": [
    {
      "cell_type": "code",
      "execution_count": 18,
      "metadata": {
        "id": "mxFhFfKzRgpi"
      },
      "outputs": [],
      "source": [
        "# !pip install langchain==0.0.189\n",
        "# !pip install pinecone-client\n",
        "# !pip install openai\n",
        "# !pip install tiktoken\n",
        "# !pip install nest_asyncio"
      ]
    },
    {
      "cell_type": "code",
      "execution_count": 4,
      "metadata": {
        "colab": {
          "base_uri": "https://localhost:8080/"
        },
        "id": "yLUk9M3QXRYY",
        "outputId": "62eee196-1ef7-45f2-d563-bdbd8216bef6"
      },
      "outputs": [
        {
          "name": "stderr",
          "output_type": "stream",
          "text": [
            "Fetching pages: 100%|##########| 38/38 [00:03<00:00, 10.74it/s]\n"
          ]
        }
      ],
      "source": [
        "# Scrape all pages from sitemap\n",
        "import nest_asyncio\n",
        "nest_asyncio.apply()\n",
        "\n",
        "from langchain.document_loaders.sitemap import SitemapLoader\n",
        "\n",
        "# Get all the pages from alpine home air using sitemap. Filter through results to just get learning-center pages. Allows for learning-center LLM or entire web LLM.\n",
        "loader = SitemapLoader(\n",
        "    \"https://www.alpinehomeair.com/sitemap.xml\",\n",
        "    filter_urls=[\"https://www.alpinehomeair.com/learning-center\"]\n",
        ")\n",
        "docs = loader.load()"
      ]
    },
    {
      "cell_type": "code",
      "execution_count": 19,
      "metadata": {
        "id": "facPYyemXWiE"
      },
      "outputs": [],
      "source": [
        "from langchain.text_splitter import RecursiveCharacterTextSplitter\n",
        "\n",
        "text_splitter = RecursiveCharacterTextSplitter(\n",
        "    chunk_size = 1200,\n",
        "    chunk_overlap  = 200,\n",
        "    length_function = len,\n",
        ")\n",
        "\n",
        "docs_chunks = text_splitter.split_documents(docs)\n",
        "# docs_chunks"
      ]
    },
    {
      "cell_type": "code",
      "execution_count": 12,
      "metadata": {
        "id": "HMnlPdZpYtSR"
      },
      "outputs": [],
      "source": [
        "# Required API Keys\n",
        "import os\n",
        "os.environ[\"OPENAI_API_KEY\"] = \"\"\n",
        "PINECONE_API_KEY = os.environ.get('PINECONE_API_KEY')\n",
        "PINECONE_API_ENV = os.environ.get('PINECONE_API_ENV')\n",
        "\n",
        "# Import Pinecone\n",
        "import pinecone\n",
        "\n",
        "# initialize pinecone\n",
        "pinecone.init(\n",
        "    api_key=PINECONE_API_KEY,  # find at app.pinecone.io\n",
        "    environment=PINECONE_API_ENV  # next to api key in console\n",
        ")"
      ]
    },
    {
      "cell_type": "markdown",
      "metadata": {
        "id": "BtIKffZiFdpT"
      },
      "source": [
        "Create embeddings"
      ]
    },
    {
      "cell_type": "code",
      "execution_count": 13,
      "metadata": {
        "id": "KK-LlnZJFPMf"
      },
      "outputs": [],
      "source": [
        "from langchain.embeddings.openai import OpenAIEmbeddings\n",
        "embeddings = OpenAIEmbeddings()"
      ]
    },
    {
      "cell_type": "markdown",
      "metadata": {
        "id": "5sY05f0sFl_k"
      },
      "source": [
        "Creating a vectorstore"
      ]
    },
    {
      "cell_type": "code",
      "execution_count": 15,
      "metadata": {
        "id": "cng7EmkbLyBb"
      },
      "outputs": [],
      "source": [
        "from langchain.vectorstores import Pinecone\n",
        "\n",
        "index_name = \"python-index\"\n",
        "\n",
        "# Create a new index\n",
        "docsearch = Pinecone.from_documents(docs_chunks, embeddings, index_name=index_name)\n"
      ]
    },
    {
      "cell_type": "code",
      "execution_count": 17,
      "metadata": {
        "colab": {
          "base_uri": "https://localhost:8080/"
        },
        "id": "790CagQsXj7O",
        "outputId": "dd8c3e82-9db8-4e0b-87ce-d74f25413895"
      },
      "outputs": [
        {
          "name": "stdout",
          "output_type": "stream",
          "text": [
            "help any consumer come to terms with their concerns and see the true value that mini split systems have to offer. This article will outline the 10 best ways to get the most out of your mini split system. From their ease of installation to their user-friendly operation, ductless mini split systems present an ideal solution for individuals seeking efficient and customizable heating and cooling options. Whether you’re a homeowner looking to upgrade your comfort system or a business owner aiming to optimize indoor environments, ductless mini splits offer a range of benefits that make them a compelling choice. How is a Mini Split System Different from a Central Air Conditioning System? A mini split system and a central air conditioning system are two distinct types of HVAC solutions, each with its own set of characteristics and advantages. Understanding their differences can help you make an informed decision based on your specific needs and preferences. 1. Installation and Ductwork: Mini\n"
          ]
        }
      ],
      "source": [
        "prompt = \"How is a Mini Split System Different from a Central Air Conditioning System?\"\n",
        "docs = docsearch.similarity_search(prompt)\n",
        "print(docs[0].page_content)"
      ]
    },
    {
      "cell_type": "code",
      "execution_count": null,
      "metadata": {
        "id": "e2D2r2IYY-NG"
      },
      "outputs": [],
      "source": []
    }
  ],
  "metadata": {
    "colab": {
      "provenance": []
    },
    "kernelspec": {
      "display_name": "Python 3",
      "name": "python3"
    },
    "language_info": {
      "name": "python"
    }
  },
  "nbformat": 4,
  "nbformat_minor": 0
}
